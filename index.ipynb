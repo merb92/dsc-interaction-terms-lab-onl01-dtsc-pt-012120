{
 "cells": [
  {
   "cell_type": "markdown",
   "metadata": {},
   "source": [
    "# Interactions - Lab"
   ]
  },
  {
   "cell_type": "markdown",
   "metadata": {},
   "source": [
    "## Introduction"
   ]
  },
  {
   "cell_type": "markdown",
   "metadata": {},
   "source": [
    "In this lab, you'll explore interactions in the Ames Housing dataset."
   ]
  },
  {
   "cell_type": "markdown",
   "metadata": {},
   "source": [
    "## Objectives"
   ]
  },
  {
   "cell_type": "markdown",
   "metadata": {},
   "source": [
    "You will be able to:\n",
    "- Implement interaction terms in Python using the `sklearn` and `statsmodels` packages \n",
    "- Interpret interaction variables in the context of a real-world problem "
   ]
  },
  {
   "cell_type": "markdown",
   "metadata": {},
   "source": [
    "## Build a baseline model "
   ]
  },
  {
   "cell_type": "markdown",
   "metadata": {},
   "source": [
    "You'll use a couple of built-in functions, which we imported for you below: "
   ]
  },
  {
   "cell_type": "code",
   "execution_count": 1,
   "metadata": {
    "ExecuteTime": {
     "end_time": "2020-04-19T18:14:34.485325Z",
     "start_time": "2020-04-19T18:14:31.168415Z"
    }
   },
   "outputs": [],
   "source": [
    "from sklearn.linear_model import LinearRegression\n",
    "from sklearn.model_selection import cross_val_score\n",
    "from sklearn.model_selection import KFold\n",
    "import pandas as pd\n",
    "import numpy as np\n",
    "import matplotlib.pyplot as plt"
   ]
  },
  {
   "cell_type": "markdown",
   "metadata": {},
   "source": [
    "If you still want to build a model in the end, you can do that, but this lab will just focus on finding meaningful insights in interactions and how they can improve $R^2$ values."
   ]
  },
  {
   "cell_type": "code",
   "execution_count": 2,
   "metadata": {
    "ExecuteTime": {
     "end_time": "2020-04-19T18:14:34.491389Z",
     "start_time": "2020-04-19T18:14:34.487713Z"
    }
   },
   "outputs": [],
   "source": [
    "regression = LinearRegression()"
   ]
  },
  {
   "cell_type": "markdown",
   "metadata": {},
   "source": [
    "Create a baseline model which includes all the variables we selected from the Ames housing data set to predict the house prices. Then use 10-fold cross-validation and report the mean $R^2$ value as the baseline $R^2$."
   ]
  },
  {
   "cell_type": "code",
   "execution_count": 3,
   "metadata": {
    "ExecuteTime": {
     "end_time": "2020-04-19T18:14:34.625528Z",
     "start_time": "2020-04-19T18:14:34.494347Z"
    }
   },
   "outputs": [
    {
     "data": {
      "text/html": [
       "<div>\n",
       "<style scoped>\n",
       "    .dataframe tbody tr th:only-of-type {\n",
       "        vertical-align: middle;\n",
       "    }\n",
       "\n",
       "    .dataframe tbody tr th {\n",
       "        vertical-align: top;\n",
       "    }\n",
       "\n",
       "    .dataframe thead th {\n",
       "        text-align: right;\n",
       "    }\n",
       "</style>\n",
       "<table border=\"1\" class=\"dataframe\">\n",
       "  <thead>\n",
       "    <tr style=\"text-align: right;\">\n",
       "      <th></th>\n",
       "      <th>Id</th>\n",
       "      <th>MSSubClass</th>\n",
       "      <th>MSZoning</th>\n",
       "      <th>LotFrontage</th>\n",
       "      <th>LotArea</th>\n",
       "      <th>Street</th>\n",
       "      <th>Alley</th>\n",
       "      <th>LotShape</th>\n",
       "      <th>LandContour</th>\n",
       "      <th>Utilities</th>\n",
       "      <th>...</th>\n",
       "      <th>PoolArea</th>\n",
       "      <th>PoolQC</th>\n",
       "      <th>Fence</th>\n",
       "      <th>MiscFeature</th>\n",
       "      <th>MiscVal</th>\n",
       "      <th>MoSold</th>\n",
       "      <th>YrSold</th>\n",
       "      <th>SaleType</th>\n",
       "      <th>SaleCondition</th>\n",
       "      <th>SalePrice</th>\n",
       "    </tr>\n",
       "  </thead>\n",
       "  <tbody>\n",
       "    <tr>\n",
       "      <td>0</td>\n",
       "      <td>1</td>\n",
       "      <td>60</td>\n",
       "      <td>RL</td>\n",
       "      <td>65.0</td>\n",
       "      <td>8450</td>\n",
       "      <td>Pave</td>\n",
       "      <td>NaN</td>\n",
       "      <td>Reg</td>\n",
       "      <td>Lvl</td>\n",
       "      <td>AllPub</td>\n",
       "      <td>...</td>\n",
       "      <td>0</td>\n",
       "      <td>NaN</td>\n",
       "      <td>NaN</td>\n",
       "      <td>NaN</td>\n",
       "      <td>0</td>\n",
       "      <td>2</td>\n",
       "      <td>2008</td>\n",
       "      <td>WD</td>\n",
       "      <td>Normal</td>\n",
       "      <td>208500</td>\n",
       "    </tr>\n",
       "    <tr>\n",
       "      <td>1</td>\n",
       "      <td>2</td>\n",
       "      <td>20</td>\n",
       "      <td>RL</td>\n",
       "      <td>80.0</td>\n",
       "      <td>9600</td>\n",
       "      <td>Pave</td>\n",
       "      <td>NaN</td>\n",
       "      <td>Reg</td>\n",
       "      <td>Lvl</td>\n",
       "      <td>AllPub</td>\n",
       "      <td>...</td>\n",
       "      <td>0</td>\n",
       "      <td>NaN</td>\n",
       "      <td>NaN</td>\n",
       "      <td>NaN</td>\n",
       "      <td>0</td>\n",
       "      <td>5</td>\n",
       "      <td>2007</td>\n",
       "      <td>WD</td>\n",
       "      <td>Normal</td>\n",
       "      <td>181500</td>\n",
       "    </tr>\n",
       "    <tr>\n",
       "      <td>2</td>\n",
       "      <td>3</td>\n",
       "      <td>60</td>\n",
       "      <td>RL</td>\n",
       "      <td>68.0</td>\n",
       "      <td>11250</td>\n",
       "      <td>Pave</td>\n",
       "      <td>NaN</td>\n",
       "      <td>IR1</td>\n",
       "      <td>Lvl</td>\n",
       "      <td>AllPub</td>\n",
       "      <td>...</td>\n",
       "      <td>0</td>\n",
       "      <td>NaN</td>\n",
       "      <td>NaN</td>\n",
       "      <td>NaN</td>\n",
       "      <td>0</td>\n",
       "      <td>9</td>\n",
       "      <td>2008</td>\n",
       "      <td>WD</td>\n",
       "      <td>Normal</td>\n",
       "      <td>223500</td>\n",
       "    </tr>\n",
       "    <tr>\n",
       "      <td>3</td>\n",
       "      <td>4</td>\n",
       "      <td>70</td>\n",
       "      <td>RL</td>\n",
       "      <td>60.0</td>\n",
       "      <td>9550</td>\n",
       "      <td>Pave</td>\n",
       "      <td>NaN</td>\n",
       "      <td>IR1</td>\n",
       "      <td>Lvl</td>\n",
       "      <td>AllPub</td>\n",
       "      <td>...</td>\n",
       "      <td>0</td>\n",
       "      <td>NaN</td>\n",
       "      <td>NaN</td>\n",
       "      <td>NaN</td>\n",
       "      <td>0</td>\n",
       "      <td>2</td>\n",
       "      <td>2006</td>\n",
       "      <td>WD</td>\n",
       "      <td>Abnorml</td>\n",
       "      <td>140000</td>\n",
       "    </tr>\n",
       "    <tr>\n",
       "      <td>4</td>\n",
       "      <td>5</td>\n",
       "      <td>60</td>\n",
       "      <td>RL</td>\n",
       "      <td>84.0</td>\n",
       "      <td>14260</td>\n",
       "      <td>Pave</td>\n",
       "      <td>NaN</td>\n",
       "      <td>IR1</td>\n",
       "      <td>Lvl</td>\n",
       "      <td>AllPub</td>\n",
       "      <td>...</td>\n",
       "      <td>0</td>\n",
       "      <td>NaN</td>\n",
       "      <td>NaN</td>\n",
       "      <td>NaN</td>\n",
       "      <td>0</td>\n",
       "      <td>12</td>\n",
       "      <td>2008</td>\n",
       "      <td>WD</td>\n",
       "      <td>Normal</td>\n",
       "      <td>250000</td>\n",
       "    </tr>\n",
       "  </tbody>\n",
       "</table>\n",
       "<p>5 rows × 81 columns</p>\n",
       "</div>"
      ],
      "text/plain": [
       "   Id  MSSubClass MSZoning  LotFrontage  LotArea Street Alley LotShape  \\\n",
       "0   1          60       RL         65.0     8450   Pave   NaN      Reg   \n",
       "1   2          20       RL         80.0     9600   Pave   NaN      Reg   \n",
       "2   3          60       RL         68.0    11250   Pave   NaN      IR1   \n",
       "3   4          70       RL         60.0     9550   Pave   NaN      IR1   \n",
       "4   5          60       RL         84.0    14260   Pave   NaN      IR1   \n",
       "\n",
       "  LandContour Utilities  ... PoolArea PoolQC Fence MiscFeature MiscVal MoSold  \\\n",
       "0         Lvl    AllPub  ...        0    NaN   NaN         NaN       0      2   \n",
       "1         Lvl    AllPub  ...        0    NaN   NaN         NaN       0      5   \n",
       "2         Lvl    AllPub  ...        0    NaN   NaN         NaN       0      9   \n",
       "3         Lvl    AllPub  ...        0    NaN   NaN         NaN       0      2   \n",
       "4         Lvl    AllPub  ...        0    NaN   NaN         NaN       0     12   \n",
       "\n",
       "  YrSold  SaleType  SaleCondition  SalePrice  \n",
       "0   2008        WD         Normal     208500  \n",
       "1   2007        WD         Normal     181500  \n",
       "2   2008        WD         Normal     223500  \n",
       "3   2006        WD        Abnorml     140000  \n",
       "4   2008        WD         Normal     250000  \n",
       "\n",
       "[5 rows x 81 columns]"
      ]
     },
     "execution_count": 3,
     "metadata": {},
     "output_type": "execute_result"
    }
   ],
   "source": [
    "ames = pd.read_csv('ames.csv')\n",
    "\n",
    "continuous = ['LotArea', '1stFlrSF', 'GrLivArea', 'SalePrice']\n",
    "categoricals = ['BldgType', 'KitchenQual', 'SaleType', 'MSZoning', 'Street', 'Neighborhood']\n",
    "\n",
    "ames.head()\n",
    "\n"
   ]
  },
  {
   "cell_type": "code",
   "execution_count": 4,
   "metadata": {
    "ExecuteTime": {
     "end_time": "2020-04-19T18:14:34.649904Z",
     "start_time": "2020-04-19T18:14:34.629748Z"
    }
   },
   "outputs": [
    {
     "data": {
      "text/html": [
       "<div>\n",
       "<style scoped>\n",
       "    .dataframe tbody tr th:only-of-type {\n",
       "        vertical-align: middle;\n",
       "    }\n",
       "\n",
       "    .dataframe tbody tr th {\n",
       "        vertical-align: top;\n",
       "    }\n",
       "\n",
       "    .dataframe thead th {\n",
       "        text-align: right;\n",
       "    }\n",
       "</style>\n",
       "<table border=\"1\" class=\"dataframe\">\n",
       "  <thead>\n",
       "    <tr style=\"text-align: right;\">\n",
       "      <th></th>\n",
       "      <th>LotArea</th>\n",
       "      <th>1stFlrSF</th>\n",
       "      <th>GrLivArea</th>\n",
       "      <th>SalePrice</th>\n",
       "    </tr>\n",
       "  </thead>\n",
       "  <tbody>\n",
       "    <tr>\n",
       "      <td>0</td>\n",
       "      <td>8450</td>\n",
       "      <td>856</td>\n",
       "      <td>1710</td>\n",
       "      <td>208500</td>\n",
       "    </tr>\n",
       "    <tr>\n",
       "      <td>1</td>\n",
       "      <td>9600</td>\n",
       "      <td>1262</td>\n",
       "      <td>1262</td>\n",
       "      <td>181500</td>\n",
       "    </tr>\n",
       "    <tr>\n",
       "      <td>2</td>\n",
       "      <td>11250</td>\n",
       "      <td>920</td>\n",
       "      <td>1786</td>\n",
       "      <td>223500</td>\n",
       "    </tr>\n",
       "    <tr>\n",
       "      <td>3</td>\n",
       "      <td>9550</td>\n",
       "      <td>961</td>\n",
       "      <td>1717</td>\n",
       "      <td>140000</td>\n",
       "    </tr>\n",
       "    <tr>\n",
       "      <td>4</td>\n",
       "      <td>14260</td>\n",
       "      <td>1145</td>\n",
       "      <td>2198</td>\n",
       "      <td>250000</td>\n",
       "    </tr>\n",
       "    <tr>\n",
       "      <td>...</td>\n",
       "      <td>...</td>\n",
       "      <td>...</td>\n",
       "      <td>...</td>\n",
       "      <td>...</td>\n",
       "    </tr>\n",
       "    <tr>\n",
       "      <td>1455</td>\n",
       "      <td>7917</td>\n",
       "      <td>953</td>\n",
       "      <td>1647</td>\n",
       "      <td>175000</td>\n",
       "    </tr>\n",
       "    <tr>\n",
       "      <td>1456</td>\n",
       "      <td>13175</td>\n",
       "      <td>2073</td>\n",
       "      <td>2073</td>\n",
       "      <td>210000</td>\n",
       "    </tr>\n",
       "    <tr>\n",
       "      <td>1457</td>\n",
       "      <td>9042</td>\n",
       "      <td>1188</td>\n",
       "      <td>2340</td>\n",
       "      <td>266500</td>\n",
       "    </tr>\n",
       "    <tr>\n",
       "      <td>1458</td>\n",
       "      <td>9717</td>\n",
       "      <td>1078</td>\n",
       "      <td>1078</td>\n",
       "      <td>142125</td>\n",
       "    </tr>\n",
       "    <tr>\n",
       "      <td>1459</td>\n",
       "      <td>9937</td>\n",
       "      <td>1256</td>\n",
       "      <td>1256</td>\n",
       "      <td>147500</td>\n",
       "    </tr>\n",
       "  </tbody>\n",
       "</table>\n",
       "<p>1460 rows × 4 columns</p>\n",
       "</div>"
      ],
      "text/plain": [
       "      LotArea  1stFlrSF  GrLivArea  SalePrice\n",
       "0        8450       856       1710     208500\n",
       "1        9600      1262       1262     181500\n",
       "2       11250       920       1786     223500\n",
       "3        9550       961       1717     140000\n",
       "4       14260      1145       2198     250000\n",
       "...       ...       ...        ...        ...\n",
       "1455     7917       953       1647     175000\n",
       "1456    13175      2073       2073     210000\n",
       "1457     9042      1188       2340     266500\n",
       "1458     9717      1078       1078     142125\n",
       "1459     9937      1256       1256     147500\n",
       "\n",
       "[1460 rows x 4 columns]"
      ]
     },
     "execution_count": 4,
     "metadata": {},
     "output_type": "execute_result"
    }
   ],
   "source": [
    "ames_cont = ames[continuous]\n",
    "ames_cont"
   ]
  },
  {
   "cell_type": "code",
   "execution_count": 5,
   "metadata": {
    "ExecuteTime": {
     "end_time": "2020-04-19T18:14:35.760782Z",
     "start_time": "2020-04-19T18:14:34.652372Z"
    }
   },
   "outputs": [
    {
     "name": "stderr",
     "output_type": "stream",
     "text": [
      "/Users/freethrall/anaconda3/envs/learn-env/lib/python3.6/site-packages/ipykernel_launcher.py:3: UserWarning: To output multiple subplots, the figure containing the passed axes is being cleared\n",
      "  This is separate from the ipykernel package so we can avoid doing imports until\n"
     ]
    },
    {
     "data": {
      "image/png": "[encoded data removed]",
      "text/plain": [
       "<Figure size 432x288 with 4 Axes>"
      ]
     },
     "metadata": {
      "needs_background": "light"
     },
     "output_type": "display_data"
    }
   ],
   "source": [
    "fig = plt.figure()\n",
    "ax = fig.gca()\n",
    "ames_cont.hist(ax=ax);\n",
    "    "
   ]
  },
  {
   "cell_type": "code",
   "execution_count": 6,
   "metadata": {
    "ExecuteTime": {
     "end_time": "2020-04-19T18:14:36.603670Z",
     "start_time": "2020-04-19T18:14:35.763338Z"
    }
   },
   "outputs": [
    {
     "name": "stderr",
     "output_type": "stream",
     "text": [
      "/Users/freethrall/anaconda3/envs/learn-env/lib/python3.6/site-packages/ipykernel_launcher.py:6: UserWarning: To output multiple subplots, the figure containing the passed axes is being cleared\n",
      "  \n"
     ]
    },
    {
     "data": {
      "image/png": "[encoded data removed]",
      "text/plain": [
       "<Figure size 432x288 with 4 Axes>"
      ]
     },
     "metadata": {
      "needs_background": "light"
     },
     "output_type": "display_data"
    }
   ],
   "source": [
    "# since the data could be more normal, apply the log transformation and see how it looks\n",
    "ames_log = np.log(ames_cont)\n",
    "\n",
    "fig = plt.figure()\n",
    "ax = fig.gca()\n",
    "ames_log.hist(ax=ax);"
   ]
  },
  {
   "cell_type": "code",
   "execution_count": 7,
   "metadata": {
    "ExecuteTime": {
     "end_time": "2020-04-19T18:14:36.609150Z",
     "start_time": "2020-04-19T18:14:36.606013Z"
    }
   },
   "outputs": [],
   "source": [
    "# since the log transformed data is definately more normal, we'll proceed with the transformed data"
   ]
  },
  {
   "cell_type": "code",
   "execution_count": 8,
   "metadata": {
    "ExecuteTime": {
     "end_time": "2020-04-19T18:14:36.633994Z",
     "start_time": "2020-04-19T18:14:36.614029Z"
    }
   },
   "outputs": [],
   "source": [
    "# deal with the cat vars\n",
    "bldg_dummies = pd.get_dummies(ames.BldgType, prefix='Bldg', drop_first=True)\n",
    "kitchen_dummies = pd.get_dummies(ames.KitchenQual, prefix='Kit', drop_first=True)\n",
    "sale_dummies = pd.get_dummies(ames.SaleType, prefix='SaleT', drop_first=True)\n",
    "msz_dummies = pd.get_dummies(ames.MSZoning, prefix='MSZ', drop_first=True)\n",
    "str_dummies = pd.get_dummies(ames.Street, prefix='Str', drop_first=True)\n",
    "neigh_dummies = pd.get_dummies(ames.Neighborhood, prefix='Neigh', drop_first=True)"
   ]
  },
  {
   "cell_type": "code",
   "execution_count": 9,
   "metadata": {
    "ExecuteTime": {
     "end_time": "2020-04-19T18:14:36.669806Z",
     "start_time": "2020-04-19T18:14:36.637220Z"
    },
    "scrolled": true
   },
   "outputs": [
    {
     "data": {
      "text/html": [
       "<div>\n",
       "<style scoped>\n",
       "    .dataframe tbody tr th:only-of-type {\n",
       "        vertical-align: middle;\n",
       "    }\n",
       "\n",
       "    .dataframe tbody tr th {\n",
       "        vertical-align: top;\n",
       "    }\n",
       "\n",
       "    .dataframe thead th {\n",
       "        text-align: right;\n",
       "    }\n",
       "</style>\n",
       "<table border=\"1\" class=\"dataframe\">\n",
       "  <thead>\n",
       "    <tr style=\"text-align: right;\">\n",
       "      <th></th>\n",
       "      <th>LotArea</th>\n",
       "      <th>1stFlrSF</th>\n",
       "      <th>GrLivArea</th>\n",
       "      <th>SalePrice</th>\n",
       "      <th>Bldg_2fmCon</th>\n",
       "      <th>Bldg_Duplex</th>\n",
       "      <th>Bldg_Twnhs</th>\n",
       "      <th>Bldg_TwnhsE</th>\n",
       "      <th>Kit_Fa</th>\n",
       "      <th>Kit_Gd</th>\n",
       "      <th>...</th>\n",
       "      <th>Neigh_NoRidge</th>\n",
       "      <th>Neigh_NridgHt</th>\n",
       "      <th>Neigh_OldTown</th>\n",
       "      <th>Neigh_SWISU</th>\n",
       "      <th>Neigh_Sawyer</th>\n",
       "      <th>Neigh_SawyerW</th>\n",
       "      <th>Neigh_Somerst</th>\n",
       "      <th>Neigh_StoneBr</th>\n",
       "      <th>Neigh_Timber</th>\n",
       "      <th>Neigh_Veenker</th>\n",
       "    </tr>\n",
       "  </thead>\n",
       "  <tbody>\n",
       "    <tr>\n",
       "      <td>0</td>\n",
       "      <td>9.041922</td>\n",
       "      <td>6.752270</td>\n",
       "      <td>7.444249</td>\n",
       "      <td>12.247694</td>\n",
       "      <td>0</td>\n",
       "      <td>0</td>\n",
       "      <td>0</td>\n",
       "      <td>0</td>\n",
       "      <td>0</td>\n",
       "      <td>1</td>\n",
       "      <td>...</td>\n",
       "      <td>0</td>\n",
       "      <td>0</td>\n",
       "      <td>0</td>\n",
       "      <td>0</td>\n",
       "      <td>0</td>\n",
       "      <td>0</td>\n",
       "      <td>0</td>\n",
       "      <td>0</td>\n",
       "      <td>0</td>\n",
       "      <td>0</td>\n",
       "    </tr>\n",
       "    <tr>\n",
       "      <td>1</td>\n",
       "      <td>9.169518</td>\n",
       "      <td>7.140453</td>\n",
       "      <td>7.140453</td>\n",
       "      <td>12.109011</td>\n",
       "      <td>0</td>\n",
       "      <td>0</td>\n",
       "      <td>0</td>\n",
       "      <td>0</td>\n",
       "      <td>0</td>\n",
       "      <td>0</td>\n",
       "      <td>...</td>\n",
       "      <td>0</td>\n",
       "      <td>0</td>\n",
       "      <td>0</td>\n",
       "      <td>0</td>\n",
       "      <td>0</td>\n",
       "      <td>0</td>\n",
       "      <td>0</td>\n",
       "      <td>0</td>\n",
       "      <td>0</td>\n",
       "      <td>1</td>\n",
       "    </tr>\n",
       "    <tr>\n",
       "      <td>2</td>\n",
       "      <td>9.328123</td>\n",
       "      <td>6.824374</td>\n",
       "      <td>7.487734</td>\n",
       "      <td>12.317167</td>\n",
       "      <td>0</td>\n",
       "      <td>0</td>\n",
       "      <td>0</td>\n",
       "      <td>0</td>\n",
       "      <td>0</td>\n",
       "      <td>1</td>\n",
       "      <td>...</td>\n",
       "      <td>0</td>\n",
       "      <td>0</td>\n",
       "      <td>0</td>\n",
       "      <td>0</td>\n",
       "      <td>0</td>\n",
       "      <td>0</td>\n",
       "      <td>0</td>\n",
       "      <td>0</td>\n",
       "      <td>0</td>\n",
       "      <td>0</td>\n",
       "    </tr>\n",
       "    <tr>\n",
       "      <td>3</td>\n",
       "      <td>9.164296</td>\n",
       "      <td>6.867974</td>\n",
       "      <td>7.448334</td>\n",
       "      <td>11.849398</td>\n",
       "      <td>0</td>\n",
       "      <td>0</td>\n",
       "      <td>0</td>\n",
       "      <td>0</td>\n",
       "      <td>0</td>\n",
       "      <td>1</td>\n",
       "      <td>...</td>\n",
       "      <td>0</td>\n",
       "      <td>0</td>\n",
       "      <td>0</td>\n",
       "      <td>0</td>\n",
       "      <td>0</td>\n",
       "      <td>0</td>\n",
       "      <td>0</td>\n",
       "      <td>0</td>\n",
       "      <td>0</td>\n",
       "      <td>0</td>\n",
       "    </tr>\n",
       "    <tr>\n",
       "      <td>4</td>\n",
       "      <td>9.565214</td>\n",
       "      <td>7.043160</td>\n",
       "      <td>7.695303</td>\n",
       "      <td>12.429216</td>\n",
       "      <td>0</td>\n",
       "      <td>0</td>\n",
       "      <td>0</td>\n",
       "      <td>0</td>\n",
       "      <td>0</td>\n",
       "      <td>1</td>\n",
       "      <td>...</td>\n",
       "      <td>1</td>\n",
       "      <td>0</td>\n",
       "      <td>0</td>\n",
       "      <td>0</td>\n",
       "      <td>0</td>\n",
       "      <td>0</td>\n",
       "      <td>0</td>\n",
       "      <td>0</td>\n",
       "      <td>0</td>\n",
       "      <td>0</td>\n",
       "    </tr>\n",
       "  </tbody>\n",
       "</table>\n",
       "<p>5 rows × 48 columns</p>\n",
       "</div>"
      ],
      "text/plain": [
       "    LotArea  1stFlrSF  GrLivArea  SalePrice  Bldg_2fmCon  Bldg_Duplex  \\\n",
       "0  9.041922  6.752270   7.444249  12.247694            0            0   \n",
       "1  9.169518  7.140453   7.140453  12.109011            0            0   \n",
       "2  9.328123  6.824374   7.487734  12.317167            0            0   \n",
       "3  9.164296  6.867974   7.448334  11.849398            0            0   \n",
       "4  9.565214  7.043160   7.695303  12.429216            0            0   \n",
       "\n",
       "   Bldg_Twnhs  Bldg_TwnhsE  Kit_Fa  Kit_Gd  ...  Neigh_NoRidge  Neigh_NridgHt  \\\n",
       "0           0            0       0       1  ...              0              0   \n",
       "1           0            0       0       0  ...              0              0   \n",
       "2           0            0       0       1  ...              0              0   \n",
       "3           0            0       0       1  ...              0              0   \n",
       "4           0            0       0       1  ...              1              0   \n",
       "\n",
       "   Neigh_OldTown  Neigh_SWISU  Neigh_Sawyer  Neigh_SawyerW  Neigh_Somerst  \\\n",
       "0              0            0             0              0              0   \n",
       "1              0            0             0              0              0   \n",
       "2              0            0             0              0              0   \n",
       "3              0            0             0              0              0   \n",
       "4              0            0             0              0              0   \n",
       "\n",
       "   Neigh_StoneBr  Neigh_Timber  Neigh_Veenker  \n",
       "0              0             0              0  \n",
       "1              0             0              1  \n",
       "2              0             0              0  \n",
       "3              0             0              0  \n",
       "4              0             0              0  \n",
       "\n",
       "[5 rows x 48 columns]"
      ]
     },
     "execution_count": 9,
     "metadata": {},
     "output_type": "execute_result"
    }
   ],
   "source": [
    "ames_fin = pd.concat([ames_log, bldg_dummies, kitchen_dummies, sale_dummies, \n",
    "                     msz_dummies, str_dummies, neigh_dummies], axis=1)\n",
    "ames_fin.head()"
   ]
  },
  {
   "cell_type": "code",
   "execution_count": 10,
   "metadata": {
    "ExecuteTime": {
     "end_time": "2020-04-19T18:14:36.681872Z",
     "start_time": "2020-04-19T18:14:36.672064Z"
    }
   },
   "outputs": [],
   "source": [
    "X = ames_fin.drop(['SalePrice'], axis=1)\n",
    "y = ames_fin.SalePrice"
   ]
  },
  {
   "cell_type": "code",
   "execution_count": 11,
   "metadata": {
    "ExecuteTime": {
     "end_time": "2020-04-19T18:14:36.818577Z",
     "start_time": "2020-04-19T18:14:36.684440Z"
    }
   },
   "outputs": [
    {
     "data": {
      "text/plain": [
       "0.8389500211207064"
      ]
     },
     "execution_count": 11,
     "metadata": {},
     "output_type": "execute_result"
    }
   ],
   "source": [
    "linreg = LinearRegression()\n",
    "linreg.fit(X, y)\n",
    "linreg.score(X, y)"
   ]
  },
  {
   "cell_type": "code",
   "execution_count": 12,
   "metadata": {
    "ExecuteTime": {
     "end_time": "2020-04-19T18:14:36.988757Z",
     "start_time": "2020-04-19T18:14:36.821199Z"
    }
   },
   "outputs": [
    {
     "name": "stdout",
     "output_type": "stream",
     "text": [
      "R-squared 0.817\n"
     ]
    }
   ],
   "source": [
    "cross_v = KFold(n_splits=10, shuffle=True, random_state=1)\n",
    "kfold_r2 = round(np.mean(cross_val_score(regression, X, y, scoring='r2', cv=cross_v)), 3)\n",
    "print(f'R-squared {kfold_r2}')"
   ]
  },
  {
   "cell_type": "markdown",
   "metadata": {},
   "source": [
    "## See how interactions improve your baseline"
   ]
  },
  {
   "cell_type": "markdown",
   "metadata": {},
   "source": [
    "Next, create all possible combinations of interactions, loop over them and add them to the baseline model one by one to see how they affect the $R^2$. We'll look at the 3 interactions which have the biggest effect on our $R^2$, so print out the top 3 combinations.\n",
    "\n",
    "You will create a `for` loop to loop through all the combinations of 2 predictors. You can use `combinations` from itertools to create a list of all the pairwise combinations. To find more info on how this is done, have a look [here](https://docs.python.org/2/library/itertools.html).\n",
    "\n",
    "Since there are so many different neighbourhoods we will exclude"
   ]
  },
  {
   "cell_type": "code",
   "execution_count": 13,
   "metadata": {
    "ExecuteTime": {
     "end_time": "2020-04-19T18:14:36.994657Z",
     "start_time": "2020-04-19T18:14:36.991025Z"
    }
   },
   "outputs": [],
   "source": [
    "from itertools import combinations"
   ]
  },
  {
   "cell_type": "code",
   "execution_count": 14,
   "metadata": {
    "ExecuteTime": {
     "end_time": "2020-04-19T18:14:37.001392Z",
     "start_time": "2020-04-19T18:14:36.997689Z"
    }
   },
   "outputs": [],
   "source": [
    "# code to find top interactions by R^2 value here\n",
    "\n",
    "column_combos = combinations(X.columns, 2)"
   ]
  },
  {
   "cell_type": "code",
   "execution_count": 15,
   "metadata": {
    "ExecuteTime": {
     "end_time": "2020-04-19T18:16:17.128075Z",
     "start_time": "2020-04-19T18:14:37.004061Z"
    }
   },
   "outputs": [],
   "source": [
    "interactions = []\n",
    "\n",
    "data = X.copy()\n",
    "\n",
    "for combo in column_combos:\n",
    "    data['interaction'] = data[combo[0]] * data[combo[1]]\n",
    "    score = np.mean(cross_val_score(regression, data, y, scoring='r2', cv=cross_v))\n",
    "    if score > kfold_r2:\n",
    "        # save the interaction info\n",
    "        interactions.append((combo[0], combo[1], round(score, 3)))"
   ]
  },
  {
   "cell_type": "code",
   "execution_count": 16,
   "metadata": {
    "ExecuteTime": {
     "end_time": "2020-04-19T18:16:17.137691Z",
     "start_time": "2020-04-19T18:16:17.130374Z"
    }
   },
   "outputs": [
    {
     "name": "stdout",
     "output_type": "stream",
     "text": [
      "The top three interactions are:\n",
      "[('LotArea', 'Neigh_BrkSide', 0.82), ('LotArea', 'Neigh_Mitchel', 0.82), ('GrLivArea', 'Bldg_Duplex', 0.82)]\n"
     ]
    }
   ],
   "source": [
    "print('The top three interactions are:')\n",
    "print(sorted(interactions, key=lambda inter: inter[2], reverse=True)[:3])"
   ]
  },
  {
   "cell_type": "markdown",
   "metadata": {},
   "source": [
    "It looks like the top interactions involve the Neighborhood_Edwards feature so lets add the interaction between LotArea and Edwards to our model.\n",
    "\n",
    "We can interpret this feature as the relationship between LotArea and SalePrice when the house is in Edwards or not."
   ]
  },
  {
   "cell_type": "markdown",
   "metadata": {},
   "source": [
    "## Visualize the Interaction\n",
    "\n",
    "Separate all houses that are located in Edwards and those that are not. Run a linear regression on each population against `SalePrice`. Visualize the regression line and data points with price on the y axis and LotArea on the x axis."
   ]
  },
  {
   "cell_type": "code",
   "execution_count": 17,
   "metadata": {
    "ExecuteTime": {
     "end_time": "2020-04-19T18:16:17.152540Z",
     "start_time": "2020-04-19T18:16:17.140653Z"
    }
   },
   "outputs": [],
   "source": [
    "# Visualization code here\n",
    "\n",
    "# ames_fin['LotAreaVsEdwards'] = ames_fin['LotArea'] * ames_fin['Neigh_Edwards']\n",
    "in_edwards = ames_fin.loc[ames_fin['Neigh_Edwards'] == 1, ['LotArea', 'SalePrice']]\n",
    "not_edwards = ames_fin.loc[ames_fin['Neigh_Edwards'] == 0, ['LotArea', 'SalePrice']]\n",
    "\n"
   ]
  },
  {
   "cell_type": "code",
   "execution_count": 18,
   "metadata": {
    "ExecuteTime": {
     "end_time": "2020-04-19T18:16:17.171203Z",
     "start_time": "2020-04-19T18:16:17.154955Z"
    }
   },
   "outputs": [
    {
     "data": {
      "text/html": [
       "<div>\n",
       "<style scoped>\n",
       "    .dataframe tbody tr th:only-of-type {\n",
       "        vertical-align: middle;\n",
       "    }\n",
       "\n",
       "    .dataframe tbody tr th {\n",
       "        vertical-align: top;\n",
       "    }\n",
       "\n",
       "    .dataframe thead th {\n",
       "        text-align: right;\n",
       "    }\n",
       "</style>\n",
       "<table border=\"1\" class=\"dataframe\">\n",
       "  <thead>\n",
       "    <tr style=\"text-align: right;\">\n",
       "      <th></th>\n",
       "      <th>LotArea</th>\n",
       "      <th>SalePrice</th>\n",
       "    </tr>\n",
       "  </thead>\n",
       "  <tbody>\n",
       "    <tr>\n",
       "      <td>0</td>\n",
       "      <td>9.041922</td>\n",
       "      <td>12.247694</td>\n",
       "    </tr>\n",
       "    <tr>\n",
       "      <td>1</td>\n",
       "      <td>9.169518</td>\n",
       "      <td>12.109011</td>\n",
       "    </tr>\n",
       "    <tr>\n",
       "      <td>2</td>\n",
       "      <td>9.328123</td>\n",
       "      <td>12.317167</td>\n",
       "    </tr>\n",
       "    <tr>\n",
       "      <td>3</td>\n",
       "      <td>9.164296</td>\n",
       "      <td>11.849398</td>\n",
       "    </tr>\n",
       "    <tr>\n",
       "      <td>4</td>\n",
       "      <td>9.565214</td>\n",
       "      <td>12.429216</td>\n",
       "    </tr>\n",
       "    <tr>\n",
       "      <td>...</td>\n",
       "      <td>...</td>\n",
       "      <td>...</td>\n",
       "    </tr>\n",
       "    <tr>\n",
       "      <td>1454</td>\n",
       "      <td>8.922658</td>\n",
       "      <td>12.128111</td>\n",
       "    </tr>\n",
       "    <tr>\n",
       "      <td>1455</td>\n",
       "      <td>8.976768</td>\n",
       "      <td>12.072541</td>\n",
       "    </tr>\n",
       "    <tr>\n",
       "      <td>1456</td>\n",
       "      <td>9.486076</td>\n",
       "      <td>12.254863</td>\n",
       "    </tr>\n",
       "    <tr>\n",
       "      <td>1457</td>\n",
       "      <td>9.109636</td>\n",
       "      <td>12.493130</td>\n",
       "    </tr>\n",
       "    <tr>\n",
       "      <td>1458</td>\n",
       "      <td>9.181632</td>\n",
       "      <td>11.864462</td>\n",
       "    </tr>\n",
       "  </tbody>\n",
       "</table>\n",
       "<p>1360 rows × 2 columns</p>\n",
       "</div>"
      ],
      "text/plain": [
       "       LotArea  SalePrice\n",
       "0     9.041922  12.247694\n",
       "1     9.169518  12.109011\n",
       "2     9.328123  12.317167\n",
       "3     9.164296  11.849398\n",
       "4     9.565214  12.429216\n",
       "...        ...        ...\n",
       "1454  8.922658  12.128111\n",
       "1455  8.976768  12.072541\n",
       "1456  9.486076  12.254863\n",
       "1457  9.109636  12.493130\n",
       "1458  9.181632  11.864462\n",
       "\n",
       "[1360 rows x 2 columns]"
      ]
     },
     "execution_count": 18,
     "metadata": {},
     "output_type": "execute_result"
    }
   ],
   "source": [
    "not_edwards"
   ]
  },
  {
   "cell_type": "code",
   "execution_count": 19,
   "metadata": {
    "ExecuteTime": {
     "end_time": "2020-04-19T18:16:17.575952Z",
     "start_time": "2020-04-19T18:16:17.173856Z"
    }
   },
   "outputs": [
    {
     "data": {
      "image/png": "[encoded data removed]",
      "text/plain": [
       "<Figure size 936x720 with 1 Axes>"
      ]
     },
     "metadata": {
      "needs_background": "light"
     },
     "output_type": "display_data"
    }
   ],
   "source": [
    "# create a linear regression for the houses in the Edwards Neighborhood\n",
    "linreg_in_edwards = LinearRegression()\n",
    "linreg_in_edwards.fit(np.array(in_edwards['LotArea']).reshape(-1, 1), np.array(in_edwards['SalePrice']))\n",
    "preds_in_edwards = linreg_in_edwards.predict(np.array(in_edwards['LotArea']).reshape(-1, 1))\n",
    "\n",
    "# create a linear regression for the houses NOT in the Edwards Neighborhood\n",
    "linreg_not_edwards = LinearRegression()\n",
    "linreg_not_edwards.fit(np.array(not_edwards['LotArea']).reshape(-1, 1), np.array(not_edwards['SalePrice']))\n",
    "preds_not_edwards = linreg_not_edwards.predict(np.array(not_edwards['LotArea']).reshape(-1, 1))\n",
    "\n",
    "# plot the Lot Area vs. Sale Price for both groups\n",
    "fig, ax = plt.subplots(figsize=(13, 10))\n",
    "ax.scatter(not_edwards['LotArea'], not_edwards['SalePrice'], label='Not Edwards', alpha=0.4)\n",
    "ax.scatter(in_edwards['LotArea'], in_edwards['SalePrice'], label='In Edwards', alpha=0.4)\n",
    "\n",
    "# plot the linear regression for both groups\n",
    "plt.plot(not_edwards['LotArea'], preds_not_edwards)\n",
    "plt.plot(in_edwards['LotArea'], preds_in_edwards)\n",
    "\n",
    "plt.xlabel('Lot Area')\n",
    "plt.ylabel('Sale Price')\n",
    "plt.legend()\n",
    "plt.show()"
   ]
  },
  {
   "cell_type": "markdown",
   "metadata": {},
   "source": [
    "## Build a final model with interactions"
   ]
  },
  {
   "cell_type": "markdown",
   "metadata": {},
   "source": [
    "Use 10-fold cross-validation to build a model using the above interaction. "
   ]
  },
  {
   "cell_type": "code",
   "execution_count": 20,
   "metadata": {
    "ExecuteTime": {
     "end_time": "2020-04-19T18:16:17.611325Z",
     "start_time": "2020-04-19T18:16:17.578458Z"
    }
   },
   "outputs": [
    {
     "data": {
      "text/html": [
       "<div>\n",
       "<style scoped>\n",
       "    .dataframe tbody tr th:only-of-type {\n",
       "        vertical-align: middle;\n",
       "    }\n",
       "\n",
       "    .dataframe tbody tr th {\n",
       "        vertical-align: top;\n",
       "    }\n",
       "\n",
       "    .dataframe thead th {\n",
       "        text-align: right;\n",
       "    }\n",
       "</style>\n",
       "<table border=\"1\" class=\"dataframe\">\n",
       "  <thead>\n",
       "    <tr style=\"text-align: right;\">\n",
       "      <th></th>\n",
       "      <th>LotArea</th>\n",
       "      <th>1stFlrSF</th>\n",
       "      <th>GrLivArea</th>\n",
       "      <th>Bldg_2fmCon</th>\n",
       "      <th>Bldg_Duplex</th>\n",
       "      <th>Bldg_Twnhs</th>\n",
       "      <th>Bldg_TwnhsE</th>\n",
       "      <th>Kit_Fa</th>\n",
       "      <th>Kit_Gd</th>\n",
       "      <th>Kit_TA</th>\n",
       "      <th>...</th>\n",
       "      <th>Neigh_NridgHt</th>\n",
       "      <th>Neigh_OldTown</th>\n",
       "      <th>Neigh_SWISU</th>\n",
       "      <th>Neigh_Sawyer</th>\n",
       "      <th>Neigh_SawyerW</th>\n",
       "      <th>Neigh_Somerst</th>\n",
       "      <th>Neigh_StoneBr</th>\n",
       "      <th>Neigh_Timber</th>\n",
       "      <th>Neigh_Veenker</th>\n",
       "      <th>LotAreaVsEdwards</th>\n",
       "    </tr>\n",
       "  </thead>\n",
       "  <tbody>\n",
       "    <tr>\n",
       "      <td>0</td>\n",
       "      <td>9.041922</td>\n",
       "      <td>6.752270</td>\n",
       "      <td>7.444249</td>\n",
       "      <td>0</td>\n",
       "      <td>0</td>\n",
       "      <td>0</td>\n",
       "      <td>0</td>\n",
       "      <td>0</td>\n",
       "      <td>1</td>\n",
       "      <td>0</td>\n",
       "      <td>...</td>\n",
       "      <td>0</td>\n",
       "      <td>0</td>\n",
       "      <td>0</td>\n",
       "      <td>0</td>\n",
       "      <td>0</td>\n",
       "      <td>0</td>\n",
       "      <td>0</td>\n",
       "      <td>0</td>\n",
       "      <td>0</td>\n",
       "      <td>0.0</td>\n",
       "    </tr>\n",
       "    <tr>\n",
       "      <td>1</td>\n",
       "      <td>9.169518</td>\n",
       "      <td>7.140453</td>\n",
       "      <td>7.140453</td>\n",
       "      <td>0</td>\n",
       "      <td>0</td>\n",
       "      <td>0</td>\n",
       "      <td>0</td>\n",
       "      <td>0</td>\n",
       "      <td>0</td>\n",
       "      <td>1</td>\n",
       "      <td>...</td>\n",
       "      <td>0</td>\n",
       "      <td>0</td>\n",
       "      <td>0</td>\n",
       "      <td>0</td>\n",
       "      <td>0</td>\n",
       "      <td>0</td>\n",
       "      <td>0</td>\n",
       "      <td>0</td>\n",
       "      <td>1</td>\n",
       "      <td>0.0</td>\n",
       "    </tr>\n",
       "    <tr>\n",
       "      <td>2</td>\n",
       "      <td>9.328123</td>\n",
       "      <td>6.824374</td>\n",
       "      <td>7.487734</td>\n",
       "      <td>0</td>\n",
       "      <td>0</td>\n",
       "      <td>0</td>\n",
       "      <td>0</td>\n",
       "      <td>0</td>\n",
       "      <td>1</td>\n",
       "      <td>0</td>\n",
       "      <td>...</td>\n",
       "      <td>0</td>\n",
       "      <td>0</td>\n",
       "      <td>0</td>\n",
       "      <td>0</td>\n",
       "      <td>0</td>\n",
       "      <td>0</td>\n",
       "      <td>0</td>\n",
       "      <td>0</td>\n",
       "      <td>0</td>\n",
       "      <td>0.0</td>\n",
       "    </tr>\n",
       "    <tr>\n",
       "      <td>3</td>\n",
       "      <td>9.164296</td>\n",
       "      <td>6.867974</td>\n",
       "      <td>7.448334</td>\n",
       "      <td>0</td>\n",
       "      <td>0</td>\n",
       "      <td>0</td>\n",
       "      <td>0</td>\n",
       "      <td>0</td>\n",
       "      <td>1</td>\n",
       "      <td>0</td>\n",
       "      <td>...</td>\n",
       "      <td>0</td>\n",
       "      <td>0</td>\n",
       "      <td>0</td>\n",
       "      <td>0</td>\n",
       "      <td>0</td>\n",
       "      <td>0</td>\n",
       "      <td>0</td>\n",
       "      <td>0</td>\n",
       "      <td>0</td>\n",
       "      <td>0.0</td>\n",
       "    </tr>\n",
       "    <tr>\n",
       "      <td>4</td>\n",
       "      <td>9.565214</td>\n",
       "      <td>7.043160</td>\n",
       "      <td>7.695303</td>\n",
       "      <td>0</td>\n",
       "      <td>0</td>\n",
       "      <td>0</td>\n",
       "      <td>0</td>\n",
       "      <td>0</td>\n",
       "      <td>1</td>\n",
       "      <td>0</td>\n",
       "      <td>...</td>\n",
       "      <td>0</td>\n",
       "      <td>0</td>\n",
       "      <td>0</td>\n",
       "      <td>0</td>\n",
       "      <td>0</td>\n",
       "      <td>0</td>\n",
       "      <td>0</td>\n",
       "      <td>0</td>\n",
       "      <td>0</td>\n",
       "      <td>0.0</td>\n",
       "    </tr>\n",
       "  </tbody>\n",
       "</table>\n",
       "<p>5 rows × 48 columns</p>\n",
       "</div>"
      ],
      "text/plain": [
       "    LotArea  1stFlrSF  GrLivArea  Bldg_2fmCon  Bldg_Duplex  Bldg_Twnhs  \\\n",
       "0  9.041922  6.752270   7.444249            0            0           0   \n",
       "1  9.169518  7.140453   7.140453            0            0           0   \n",
       "2  9.328123  6.824374   7.487734            0            0           0   \n",
       "3  9.164296  6.867974   7.448334            0            0           0   \n",
       "4  9.565214  7.043160   7.695303            0            0           0   \n",
       "\n",
       "   Bldg_TwnhsE  Kit_Fa  Kit_Gd  Kit_TA  ...  Neigh_NridgHt  Neigh_OldTown  \\\n",
       "0            0       0       1       0  ...              0              0   \n",
       "1            0       0       0       1  ...              0              0   \n",
       "2            0       0       1       0  ...              0              0   \n",
       "3            0       0       1       0  ...              0              0   \n",
       "4            0       0       1       0  ...              0              0   \n",
       "\n",
       "   Neigh_SWISU  Neigh_Sawyer  Neigh_SawyerW  Neigh_Somerst  Neigh_StoneBr  \\\n",
       "0            0             0              0              0              0   \n",
       "1            0             0              0              0              0   \n",
       "2            0             0              0              0              0   \n",
       "3            0             0              0              0              0   \n",
       "4            0             0              0              0              0   \n",
       "\n",
       "   Neigh_Timber  Neigh_Veenker  LotAreaVsEdwards  \n",
       "0             0              0               0.0  \n",
       "1             0              1               0.0  \n",
       "2             0              0               0.0  \n",
       "3             0              0               0.0  \n",
       "4             0              0               0.0  \n",
       "\n",
       "[5 rows x 48 columns]"
      ]
     },
     "execution_count": 20,
     "metadata": {},
     "output_type": "execute_result"
    }
   ],
   "source": [
    "X['LotAreaVsEdwards'] = X['LotArea'] * X['Neigh_Edwards']\n",
    "X.head()"
   ]
  },
  {
   "cell_type": "code",
   "execution_count": 21,
   "metadata": {
    "ExecuteTime": {
     "end_time": "2020-04-19T18:16:17.627196Z",
     "start_time": "2020-04-19T18:16:17.614248Z"
    }
   },
   "outputs": [
    {
     "data": {
      "text/plain": [
       "count    1460.000000\n",
       "mean        0.624109\n",
       "std         2.305550\n",
       "min         0.000000\n",
       "25%         0.000000\n",
       "50%         0.000000\n",
       "75%         0.000000\n",
       "max        11.064871\n",
       "Name: LotAreaVsEdwards, dtype: float64"
      ]
     },
     "execution_count": 21,
     "metadata": {},
     "output_type": "execute_result"
    }
   ],
   "source": [
    "X.LotAreaVsEdwards.describe()"
   ]
  },
  {
   "cell_type": "code",
   "execution_count": 22,
   "metadata": {
    "ExecuteTime": {
     "end_time": "2020-04-19T18:16:17.771518Z",
     "start_time": "2020-04-19T18:16:17.629508Z"
    }
   },
   "outputs": [
    {
     "name": "stdout",
     "output_type": "stream",
     "text": [
      "0.8188308850559455\n"
     ]
    }
   ],
   "source": [
    "score = np.mean(cross_val_score(regression, X, y, scoring='r2', cv=cross_v))\n",
    "print(score)"
   ]
  },
  {
   "cell_type": "markdown",
   "metadata": {},
   "source": [
    "Our $R^2$ has increased considerably! Let's have a look in `statsmodels` to see if this interactions are significant."
   ]
  },
  {
   "cell_type": "code",
   "execution_count": 23,
   "metadata": {
    "ExecuteTime": {
     "end_time": "2020-04-19T18:16:18.163114Z",
     "start_time": "2020-04-19T18:16:17.779067Z"
    }
   },
   "outputs": [
    {
     "name": "stderr",
     "output_type": "stream",
     "text": [
      "/Users/freethrall/anaconda3/envs/learn-env/lib/python3.6/site-packages/numpy/core/fromnumeric.py:2389: FutureWarning: Method .ptp is deprecated and will be removed in a future version. Use numpy.ptp instead.\n",
      "  return ptp(axis=axis, out=out, **kwargs)\n"
     ]
    },
    {
     "data": {
      "text/html": [
       "<table class=\"simpletable\">\n",
       "<caption>OLS Regression Results</caption>\n",
       "<tr>\n",
       "  <th>Dep. Variable:</th>        <td>SalePrice</td>    <th>  R-squared:         </th> <td>   0.841</td>\n",
       "</tr>\n",
       "<tr>\n",
       "  <th>Model:</th>                   <td>OLS</td>       <th>  Adj. R-squared:    </th> <td>   0.836</td>\n",
       "</tr>\n",
       "<tr>\n",
       "  <th>Method:</th>             <td>Least Squares</td>  <th>  F-statistic:       </th> <td>   156.0</td>\n",
       "</tr>\n",
       "<tr>\n",
       "  <th>Date:</th>             <td>Sun, 19 Apr 2020</td> <th>  Prob (F-statistic):</th>  <td>  0.00</td> \n",
       "</tr>\n",
       "<tr>\n",
       "  <th>Time:</th>                 <td>14:16:18</td>     <th>  Log-Likelihood:    </th> <td>  613.09</td>\n",
       "</tr>\n",
       "<tr>\n",
       "  <th>No. Observations:</th>      <td>  1460</td>      <th>  AIC:               </th> <td>  -1128.</td>\n",
       "</tr>\n",
       "<tr>\n",
       "  <th>Df Residuals:</th>          <td>  1411</td>      <th>  BIC:               </th> <td>  -869.2</td>\n",
       "</tr>\n",
       "<tr>\n",
       "  <th>Df Model:</th>              <td>    48</td>      <th>                     </th>     <td> </td>   \n",
       "</tr>\n",
       "<tr>\n",
       "  <th>Covariance Type:</th>      <td>nonrobust</td>    <th>                     </th>     <td> </td>   \n",
       "</tr>\n",
       "</table>\n",
       "<table class=\"simpletable\">\n",
       "<tr>\n",
       "          <td></td>            <th>coef</th>     <th>std err</th>      <th>t</th>      <th>P>|t|</th>  <th>[0.025</th>    <th>0.975]</th>  \n",
       "</tr>\n",
       "<tr>\n",
       "  <th>const</th>            <td>    6.6048</td> <td>    0.201</td> <td>   32.922</td> <td> 0.000</td> <td>    6.211</td> <td>    6.998</td>\n",
       "</tr>\n",
       "<tr>\n",
       "  <th>LotArea</th>          <td>    0.0937</td> <td>    0.015</td> <td>    6.353</td> <td> 0.000</td> <td>    0.065</td> <td>    0.123</td>\n",
       "</tr>\n",
       "<tr>\n",
       "  <th>1stFlrSF</th>         <td>    0.1761</td> <td>    0.020</td> <td>    8.829</td> <td> 0.000</td> <td>    0.137</td> <td>    0.215</td>\n",
       "</tr>\n",
       "<tr>\n",
       "  <th>GrLivArea</th>        <td>    0.4503</td> <td>    0.019</td> <td>   24.240</td> <td> 0.000</td> <td>    0.414</td> <td>    0.487</td>\n",
       "</tr>\n",
       "<tr>\n",
       "  <th>Bldg_2fmCon</th>      <td>   -0.0713</td> <td>    0.031</td> <td>   -2.278</td> <td> 0.023</td> <td>   -0.133</td> <td>   -0.010</td>\n",
       "</tr>\n",
       "<tr>\n",
       "  <th>Bldg_Duplex</th>      <td>   -0.1664</td> <td>    0.024</td> <td>   -6.803</td> <td> 0.000</td> <td>   -0.214</td> <td>   -0.118</td>\n",
       "</tr>\n",
       "<tr>\n",
       "  <th>Bldg_Twnhs</th>       <td>   -0.0648</td> <td>    0.037</td> <td>   -1.761</td> <td> 0.079</td> <td>   -0.137</td> <td>    0.007</td>\n",
       "</tr>\n",
       "<tr>\n",
       "  <th>Bldg_TwnhsE</th>      <td>   -0.0189</td> <td>    0.024</td> <td>   -0.797</td> <td> 0.425</td> <td>   -0.065</td> <td>    0.028</td>\n",
       "</tr>\n",
       "<tr>\n",
       "  <th>Kit_Fa</th>           <td>   -0.3984</td> <td>    0.035</td> <td>  -11.373</td> <td> 0.000</td> <td>   -0.467</td> <td>   -0.330</td>\n",
       "</tr>\n",
       "<tr>\n",
       "  <th>Kit_Gd</th>           <td>   -0.1571</td> <td>    0.020</td> <td>   -7.889</td> <td> 0.000</td> <td>   -0.196</td> <td>   -0.118</td>\n",
       "</tr>\n",
       "<tr>\n",
       "  <th>Kit_TA</th>           <td>   -0.2710</td> <td>    0.022</td> <td>  -12.361</td> <td> 0.000</td> <td>   -0.314</td> <td>   -0.228</td>\n",
       "</tr>\n",
       "<tr>\n",
       "  <th>SaleT_CWD</th>        <td>    0.0890</td> <td>    0.085</td> <td>    1.043</td> <td> 0.297</td> <td>   -0.078</td> <td>    0.256</td>\n",
       "</tr>\n",
       "<tr>\n",
       "  <th>SaleT_Con</th>        <td>    0.2316</td> <td>    0.121</td> <td>    1.920</td> <td> 0.055</td> <td>   -0.005</td> <td>    0.468</td>\n",
       "</tr>\n",
       "<tr>\n",
       "  <th>SaleT_ConLD</th>      <td>    0.1251</td> <td>    0.062</td> <td>    2.032</td> <td> 0.042</td> <td>    0.004</td> <td>    0.246</td>\n",
       "</tr>\n",
       "<tr>\n",
       "  <th>SaleT_ConLI</th>      <td>    0.0250</td> <td>    0.077</td> <td>    0.323</td> <td> 0.747</td> <td>   -0.127</td> <td>    0.177</td>\n",
       "</tr>\n",
       "<tr>\n",
       "  <th>SaleT_ConLw</th>      <td>    0.0109</td> <td>    0.078</td> <td>    0.140</td> <td> 0.889</td> <td>   -0.141</td> <td>    0.163</td>\n",
       "</tr>\n",
       "<tr>\n",
       "  <th>SaleT_New</th>        <td>    0.1198</td> <td>    0.031</td> <td>    3.831</td> <td> 0.000</td> <td>    0.058</td> <td>    0.181</td>\n",
       "</tr>\n",
       "<tr>\n",
       "  <th>SaleT_Oth</th>        <td>    0.0355</td> <td>    0.097</td> <td>    0.364</td> <td> 0.716</td> <td>   -0.155</td> <td>    0.226</td>\n",
       "</tr>\n",
       "<tr>\n",
       "  <th>SaleT_WD</th>         <td>    0.0686</td> <td>    0.026</td> <td>    2.647</td> <td> 0.008</td> <td>    0.018</td> <td>    0.119</td>\n",
       "</tr>\n",
       "<tr>\n",
       "  <th>MSZ_FV</th>           <td>    0.4592</td> <td>    0.077</td> <td>    5.975</td> <td> 0.000</td> <td>    0.308</td> <td>    0.610</td>\n",
       "</tr>\n",
       "<tr>\n",
       "  <th>MSZ_RH</th>           <td>    0.3606</td> <td>    0.077</td> <td>    4.678</td> <td> 0.000</td> <td>    0.209</td> <td>    0.512</td>\n",
       "</tr>\n",
       "<tr>\n",
       "  <th>MSZ_RL</th>           <td>    0.4179</td> <td>    0.064</td> <td>    6.495</td> <td> 0.000</td> <td>    0.292</td> <td>    0.544</td>\n",
       "</tr>\n",
       "<tr>\n",
       "  <th>MSZ_RM</th>           <td>    0.4430</td> <td>    0.060</td> <td>    7.363</td> <td> 0.000</td> <td>    0.325</td> <td>    0.561</td>\n",
       "</tr>\n",
       "<tr>\n",
       "  <th>Str_Pave</th>         <td>   -0.0817</td> <td>    0.071</td> <td>   -1.142</td> <td> 0.253</td> <td>   -0.222</td> <td>    0.059</td>\n",
       "</tr>\n",
       "<tr>\n",
       "  <th>Neigh_Blueste</th>    <td>    0.0552</td> <td>    0.126</td> <td>    0.437</td> <td> 0.662</td> <td>   -0.192</td> <td>    0.303</td>\n",
       "</tr>\n",
       "<tr>\n",
       "  <th>Neigh_BrDale</th>     <td>   -0.1492</td> <td>    0.068</td> <td>   -2.191</td> <td> 0.029</td> <td>   -0.283</td> <td>   -0.016</td>\n",
       "</tr>\n",
       "<tr>\n",
       "  <th>Neigh_BrkSide</th>    <td>   -0.2599</td> <td>    0.054</td> <td>   -4.777</td> <td> 0.000</td> <td>   -0.367</td> <td>   -0.153</td>\n",
       "</tr>\n",
       "<tr>\n",
       "  <th>Neigh_ClearCr</th>    <td>   -0.1081</td> <td>    0.057</td> <td>   -1.882</td> <td> 0.060</td> <td>   -0.221</td> <td>    0.005</td>\n",
       "</tr>\n",
       "<tr>\n",
       "  <th>Neigh_CollgCr</th>    <td>   -0.0421</td> <td>    0.047</td> <td>   -0.894</td> <td> 0.371</td> <td>   -0.135</td> <td>    0.050</td>\n",
       "</tr>\n",
       "<tr>\n",
       "  <th>Neigh_Crawfor</th>    <td>   -0.0468</td> <td>    0.051</td> <td>   -0.913</td> <td> 0.361</td> <td>   -0.147</td> <td>    0.054</td>\n",
       "</tr>\n",
       "<tr>\n",
       "  <th>Neigh_Edwards</th>    <td>    1.3089</td> <td>    0.345</td> <td>    3.793</td> <td> 0.000</td> <td>    0.632</td> <td>    1.986</td>\n",
       "</tr>\n",
       "<tr>\n",
       "  <th>Neigh_Gilbert</th>    <td>   -0.0532</td> <td>    0.050</td> <td>   -1.062</td> <td> 0.289</td> <td>   -0.152</td> <td>    0.045</td>\n",
       "</tr>\n",
       "<tr>\n",
       "  <th>Neigh_IDOTRR</th>     <td>   -0.3762</td> <td>    0.063</td> <td>   -5.931</td> <td> 0.000</td> <td>   -0.501</td> <td>   -0.252</td>\n",
       "</tr>\n",
       "<tr>\n",
       "  <th>Neigh_MeadowV</th>    <td>   -0.2478</td> <td>    0.063</td> <td>   -3.913</td> <td> 0.000</td> <td>   -0.372</td> <td>   -0.124</td>\n",
       "</tr>\n",
       "<tr>\n",
       "  <th>Neigh_Mitchel</th>    <td>   -0.1149</td> <td>    0.052</td> <td>   -2.204</td> <td> 0.028</td> <td>   -0.217</td> <td>   -0.013</td>\n",
       "</tr>\n",
       "<tr>\n",
       "  <th>Neigh_NAmes</th>      <td>   -0.1900</td> <td>    0.048</td> <td>   -3.978</td> <td> 0.000</td> <td>   -0.284</td> <td>   -0.096</td>\n",
       "</tr>\n",
       "<tr>\n",
       "  <th>Neigh_NPkVill</th>    <td>   -0.0015</td> <td>    0.069</td> <td>   -0.022</td> <td> 0.982</td> <td>   -0.136</td> <td>    0.133</td>\n",
       "</tr>\n",
       "<tr>\n",
       "  <th>Neigh_NWAmes</th>     <td>   -0.1233</td> <td>    0.050</td> <td>   -2.460</td> <td> 0.014</td> <td>   -0.222</td> <td>   -0.025</td>\n",
       "</tr>\n",
       "<tr>\n",
       "  <th>Neigh_NoRidge</th>    <td>    0.1271</td> <td>    0.053</td> <td>    2.409</td> <td> 0.016</td> <td>    0.024</td> <td>    0.231</td>\n",
       "</tr>\n",
       "<tr>\n",
       "  <th>Neigh_NridgHt</th>    <td>    0.1283</td> <td>    0.048</td> <td>    2.696</td> <td> 0.007</td> <td>    0.035</td> <td>    0.222</td>\n",
       "</tr>\n",
       "<tr>\n",
       "  <th>Neigh_OldTown</th>    <td>   -0.3684</td> <td>    0.055</td> <td>   -6.643</td> <td> 0.000</td> <td>   -0.477</td> <td>   -0.260</td>\n",
       "</tr>\n",
       "<tr>\n",
       "  <th>Neigh_SWISU</th>      <td>   -0.2879</td> <td>    0.057</td> <td>   -5.026</td> <td> 0.000</td> <td>   -0.400</td> <td>   -0.176</td>\n",
       "</tr>\n",
       "<tr>\n",
       "  <th>Neigh_Sawyer</th>     <td>   -0.2038</td> <td>    0.051</td> <td>   -4.023</td> <td> 0.000</td> <td>   -0.303</td> <td>   -0.104</td>\n",
       "</tr>\n",
       "<tr>\n",
       "  <th>Neigh_SawyerW</th>    <td>   -0.1057</td> <td>    0.050</td> <td>   -2.124</td> <td> 0.034</td> <td>   -0.203</td> <td>   -0.008</td>\n",
       "</tr>\n",
       "<tr>\n",
       "  <th>Neigh_Somerst</th>    <td>    0.0201</td> <td>    0.057</td> <td>    0.350</td> <td> 0.726</td> <td>   -0.093</td> <td>    0.133</td>\n",
       "</tr>\n",
       "<tr>\n",
       "  <th>Neigh_StoneBr</th>    <td>    0.1568</td> <td>    0.053</td> <td>    2.971</td> <td> 0.003</td> <td>    0.053</td> <td>    0.260</td>\n",
       "</tr>\n",
       "<tr>\n",
       "  <th>Neigh_Timber</th>     <td>   -0.0182</td> <td>    0.053</td> <td>   -0.341</td> <td> 0.733</td> <td>   -0.123</td> <td>    0.086</td>\n",
       "</tr>\n",
       "<tr>\n",
       "  <th>Neigh_Veenker</th>    <td>    0.0313</td> <td>    0.067</td> <td>    0.466</td> <td> 0.641</td> <td>   -0.100</td> <td>    0.163</td>\n",
       "</tr>\n",
       "<tr>\n",
       "  <th>LotAreaVsEdwards</th> <td>   -0.1783</td> <td>    0.038</td> <td>   -4.722</td> <td> 0.000</td> <td>   -0.252</td> <td>   -0.104</td>\n",
       "</tr>\n",
       "</table>\n",
       "<table class=\"simpletable\">\n",
       "<tr>\n",
       "  <th>Omnibus:</th>       <td>202.084</td> <th>  Durbin-Watson:     </th> <td>   1.962</td> \n",
       "</tr>\n",
       "<tr>\n",
       "  <th>Prob(Omnibus):</th> <td> 0.000</td>  <th>  Jarque-Bera (JB):  </th> <td> 615.237</td> \n",
       "</tr>\n",
       "<tr>\n",
       "  <th>Skew:</th>          <td>-0.700</td>  <th>  Prob(JB):          </th> <td>2.53e-134</td>\n",
       "</tr>\n",
       "<tr>\n",
       "  <th>Kurtosis:</th>      <td> 5.855</td>  <th>  Cond. No.          </th> <td>1.15e+03</td> \n",
       "</tr>\n",
       "</table><br/><br/>Warnings:<br/>[1] Standard Errors assume that the covariance matrix of the errors is correctly specified.<br/>[2] The condition number is large, 1.15e+03. This might indicate that there are<br/>strong multicollinearity or other numerical problems."
      ],
      "text/plain": [
       "<class 'statsmodels.iolib.summary.Summary'>\n",
       "\"\"\"\n",
       "                            OLS Regression Results                            \n",
       "==============================================================================\n",
       "Dep. Variable:              SalePrice   R-squared:                       0.841\n",
       "Model:                            OLS   Adj. R-squared:                  0.836\n",
       "Method:                 Least Squares   F-statistic:                     156.0\n",
       "Date:                Sun, 19 Apr 2020   Prob (F-statistic):               0.00\n",
       "Time:                        14:16:18   Log-Likelihood:                 613.09\n",
       "No. Observations:                1460   AIC:                            -1128.\n",
       "Df Residuals:                    1411   BIC:                            -869.2\n",
       "Df Model:                          48                                         \n",
       "Covariance Type:            nonrobust                                         \n",
       "====================================================================================\n",
       "                       coef    std err          t      P>|t|      [0.025      0.975]\n",
       "------------------------------------------------------------------------------------\n",
       "const                6.6048      0.201     32.922      0.000       6.211       6.998\n",
       "LotArea              0.0937      0.015      6.353      0.000       0.065       0.123\n",
       "1stFlrSF             0.1761      0.020      8.829      0.000       0.137       0.215\n",
       "GrLivArea            0.4503      0.019     24.240      0.000       0.414       0.487\n",
       "Bldg_2fmCon         -0.0713      0.031     -2.278      0.023      -0.133      -0.010\n",
       "Bldg_Duplex         -0.1664      0.024     -6.803      0.000      -0.214      -0.118\n",
       "Bldg_Twnhs          -0.0648      0.037     -1.761      0.079      -0.137       0.007\n",
       "Bldg_TwnhsE         -0.0189      0.024     -0.797      0.425      -0.065       0.028\n",
       "Kit_Fa              -0.3984      0.035    -11.373      0.000      -0.467      -0.330\n",
       "Kit_Gd              -0.1571      0.020     -7.889      0.000      -0.196      -0.118\n",
       "Kit_TA              -0.2710      0.022    -12.361      0.000      -0.314      -0.228\n",
       "SaleT_CWD            0.0890      0.085      1.043      0.297      -0.078       0.256\n",
       "SaleT_Con            0.2316      0.121      1.920      0.055      -0.005       0.468\n",
       "SaleT_ConLD          0.1251      0.062      2.032      0.042       0.004       0.246\n",
       "SaleT_ConLI          0.0250      0.077      0.323      0.747      -0.127       0.177\n",
       "SaleT_ConLw          0.0109      0.078      0.140      0.889      -0.141       0.163\n",
       "SaleT_New            0.1198      0.031      3.831      0.000       0.058       0.181\n",
       "SaleT_Oth            0.0355      0.097      0.364      0.716      -0.155       0.226\n",
       "SaleT_WD             0.0686      0.026      2.647      0.008       0.018       0.119\n",
       "MSZ_FV               0.4592      0.077      5.975      0.000       0.308       0.610\n",
       "MSZ_RH               0.3606      0.077      4.678      0.000       0.209       0.512\n",
       "MSZ_RL               0.4179      0.064      6.495      0.000       0.292       0.544\n",
       "MSZ_RM               0.4430      0.060      7.363      0.000       0.325       0.561\n",
       "Str_Pave            -0.0817      0.071     -1.142      0.253      -0.222       0.059\n",
       "Neigh_Blueste        0.0552      0.126      0.437      0.662      -0.192       0.303\n",
       "Neigh_BrDale        -0.1492      0.068     -2.191      0.029      -0.283      -0.016\n",
       "Neigh_BrkSide       -0.2599      0.054     -4.777      0.000      -0.367      -0.153\n",
       "Neigh_ClearCr       -0.1081      0.057     -1.882      0.060      -0.221       0.005\n",
       "Neigh_CollgCr       -0.0421      0.047     -0.894      0.371      -0.135       0.050\n",
       "Neigh_Crawfor       -0.0468      0.051     -0.913      0.361      -0.147       0.054\n",
       "Neigh_Edwards        1.3089      0.345      3.793      0.000       0.632       1.986\n",
       "Neigh_Gilbert       -0.0532      0.050     -1.062      0.289      -0.152       0.045\n",
       "Neigh_IDOTRR        -0.3762      0.063     -5.931      0.000      -0.501      -0.252\n",
       "Neigh_MeadowV       -0.2478      0.063     -3.913      0.000      -0.372      -0.124\n",
       "Neigh_Mitchel       -0.1149      0.052     -2.204      0.028      -0.217      -0.013\n",
       "Neigh_NAmes         -0.1900      0.048     -3.978      0.000      -0.284      -0.096\n",
       "Neigh_NPkVill       -0.0015      0.069     -0.022      0.982      -0.136       0.133\n",
       "Neigh_NWAmes        -0.1233      0.050     -2.460      0.014      -0.222      -0.025\n",
       "Neigh_NoRidge        0.1271      0.053      2.409      0.016       0.024       0.231\n",
       "Neigh_NridgHt        0.1283      0.048      2.696      0.007       0.035       0.222\n",
       "Neigh_OldTown       -0.3684      0.055     -6.643      0.000      -0.477      -0.260\n",
       "Neigh_SWISU         -0.2879      0.057     -5.026      0.000      -0.400      -0.176\n",
       "Neigh_Sawyer        -0.2038      0.051     -4.023      0.000      -0.303      -0.104\n",
       "Neigh_SawyerW       -0.1057      0.050     -2.124      0.034      -0.203      -0.008\n",
       "Neigh_Somerst        0.0201      0.057      0.350      0.726      -0.093       0.133\n",
       "Neigh_StoneBr        0.1568      0.053      2.971      0.003       0.053       0.260\n",
       "Neigh_Timber        -0.0182      0.053     -0.341      0.733      -0.123       0.086\n",
       "Neigh_Veenker        0.0313      0.067      0.466      0.641      -0.100       0.163\n",
       "LotAreaVsEdwards    -0.1783      0.038     -4.722      0.000      -0.252      -0.104\n",
       "==============================================================================\n",
       "Omnibus:                      202.084   Durbin-Watson:                   1.962\n",
       "Prob(Omnibus):                  0.000   Jarque-Bera (JB):              615.237\n",
       "Skew:                          -0.700   Prob(JB):                    2.53e-134\n",
       "Kurtosis:                       5.855   Cond. No.                     1.15e+03\n",
       "==============================================================================\n",
       "\n",
       "Warnings:\n",
       "[1] Standard Errors assume that the covariance matrix of the errors is correctly specified.\n",
       "[2] The condition number is large, 1.15e+03. This might indicate that there are\n",
       "strong multicollinearity or other numerical problems.\n",
       "\"\"\""
      ]
     },
     "execution_count": 23,
     "metadata": {},
     "output_type": "execute_result"
    }
   ],
   "source": [
    "# features = '+'.join(X.columns)\n",
    "# f = 'SalePrice ~ ' + features\n",
    "import statsmodels.api as sm\n",
    "features_int = sm.add_constant(X)\n",
    "model = sm.OLS(y, features_int).fit()\n",
    "model.summary()"
   ]
  },
  {
   "cell_type": "markdown",
   "metadata": {},
   "source": [
    "What is your conclusion here?"
   ]
  },
  {
   "cell_type": "code",
   "execution_count": 24,
   "metadata": {
    "ExecuteTime": {
     "end_time": "2020-04-19T18:16:18.171878Z",
     "start_time": "2020-04-19T18:16:18.168125Z"
    }
   },
   "outputs": [],
   "source": [
    "# formulate your conclusion\n",
    "# the interaction between LotArea and the Edwards Neighborhood is significant and adds to the model's precsion"
   ]
  },
  {
   "cell_type": "markdown",
   "metadata": {},
   "source": [
    "## Summary"
   ]
  },
  {
   "cell_type": "markdown",
   "metadata": {},
   "source": [
    "You should now understand how to include interaction effects in your model! As you can see, interactions can have a strong impact on linear regression models, and they should always be considered when you are constructing your models."
   ]
  }
 ],
 "metadata": {
  "kernelspec": {
   "display_name": "learn-env",
   "language": "python",
   "name": "learn-env"
  },
  "language_info": {
   "codemirror_mode": {
    "name": "ipython",
    "version": 3
   },
   "file_extension": ".py",
   "mimetype": "text/x-python",
   "name": "python",
   "nbconvert_exporter": "python",
   "pygments_lexer": "ipython3",
   "version": "3.6.9"
  },
  "toc": {
   "base_numbering": 1,
   "nav_menu": {},
   "number_sections": true,
   "sideBar": true,
   "skip_h1_title": false,
   "title_cell": "Table of Contents",
   "title_sidebar": "Contents",
   "toc_cell": false,
   "toc_position": {},
   "toc_section_display": true,
   "toc_window_display": false
  },
  "varInspector": {
   "cols": {
    "lenName": 16,
    "lenType": 16,
    "lenVar": 40
   },
   "kernels_config": {
    "python": {
     "delete_cmd_postfix": "",
     "delete_cmd_prefix": "del ",
     "library": "var_list.py",
     "varRefreshCmd": "print(var_dic_list())"
    },
    "r": {
     "delete_cmd_postfix": ") ",
     "delete_cmd_prefix": "rm(",
     "library": "var_list.r",
     "varRefreshCmd": "cat(var_dic_list()) "
    }
   },
   "types_to_exclude": [
    "module",
    "function",
    "builtin_function_or_method",
    "instance",
    "_Feature"
   ],
   "window_display": false
  }
 },
 "nbformat": 4,
 "nbformat_minor": 2
}
